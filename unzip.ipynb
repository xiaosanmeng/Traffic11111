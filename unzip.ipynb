{
 "cells": [
  {
   "cell_type": "code",
   "execution_count": null,
   "metadata": {},
   "outputs": [],
   "source": [
    "import zipfile\n",
    "import os\n",
    "import threading\n",
    "\n",
    "rootDir = \"month\"\n",
    "\n",
    "def unzipFile(filename):\n",
    "    with zipfile.ZipFile(currFileName, \"r\") as zip_tmp:\n",
    "        zip_tmp.extractall()\n",
    "\n",
    "threads = []\n",
    "\n",
    "zipNameList = os.listdir(rootDir)\n",
    "for singleZip in zipNameList:\n",
    "    currFileName = os.path.join(rootDir, singleZip)\n",
    "    thread = threading.Thread(target=unzipFile, args=(currFileName,))\n",
    "    thread.start()\n",
    "    threads.append(thread)\n",
    "    \n",
    "for thread in threads:\n",
    "    thread.join()\n",
    "    "
   ]
  }
 ],
 "metadata": {
  "kernelspec": {
   "display_name": "ML_Tensorflow",
   "language": "python",
   "name": "python3"
  },
  "language_info": {
   "codemirror_mode": {
    "name": "ipython",
    "version": 3
   },
   "file_extension": ".py",
   "mimetype": "text/x-python",
   "name": "python",
   "nbconvert_exporter": "python",
   "pygments_lexer": "ipython3",
   "version": "3.10.13"
  }
 },
 "nbformat": 4,
 "nbformat_minor": 2
}
