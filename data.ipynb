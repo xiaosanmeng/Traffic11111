{
 "cells": [
  {
   "cell_type": "code",
   "execution_count": 25,
   "metadata": {},
   "outputs": [],
   "source": [
    "import os\n",
    "import numpy as np\n",
    "import pandas as pd\n",
    "import json\n",
    "from collections import defaultdict\n",
    "import datetime\n",
    "import threading"
   ]
  },
  {
   "cell_type": "code",
   "execution_count": 26,
   "metadata": {},
   "outputs": [],
   "source": [
    "src_root_dir = \"month\"\n",
    "des_root_dir = \"newmonth\"\n",
    "\n",
    "def processSingleDir(directory):\n",
    "    aircraftDict = defaultdict(list)\n",
    "    index = int(directory[8: 10])\n",
    "    desDirName = \"day\" + str(index)\n",
    "    currTargetDir = os.path.join(src_root_dir, directory)\n",
    "    currDataList = os.listdir(currTargetDir)\n",
    "    for currDataName in currDataList:\n",
    "        currDataPath = os.path.join(currTargetDir, currDataName)\n",
    "        with open(currDataPath) as currJson:\n",
    "            currData = json.load(currJson)\n",
    "        aircraftLen = len(currData[\"acList\"])\n",
    "        for idx in range(aircraftLen):\n",
    "            currAircraft = currData[\"acList\"][idx] #获取当前飞机数据\n",
    "            currAircraft[\"timeRange\"] = currDataName\n",
    "            timestamp = int(currAircraft[\"FSeen\"][6:-2])  #将FSeen信息格式化\n",
    "            currAircraft[\"FSeen\"] = datetime.datetime.fromtimestamp(timestamp/1000).strftime('%H:%M:%S')\n",
    "\n",
    "            timestamp = int(currAircraft[\"PosTime\"])   #将PosTime信息格式化\n",
    "            currAircraft[\"PosTime\"] = datetime.datetime.fromtimestamp(timestamp/1000).strftime('%H:%M:%S')\n",
    "            \n",
    "            currId = currAircraft[\"Id\"]\n",
    "            aircraftDict[currId].append(currAircraft)\n",
    "            \n",
    "    keys = list(aircraftDict.keys())\n",
    "    for key in keys:\n",
    "        aircraftDict[key] = pd.DataFrame(aircraftDict[key])\n",
    "        aircraftDict[key] = aircraftDict[key].sort_values(\"FSeen\", ascending=True)\n",
    "        currColumns = list(aircraftDict[key])\n",
    "        currColumns.remove(\"timeRange\"); currColumns.remove(\"FSeen\"); currColumns.remove(\"PosTime\")\n",
    "        currColumns.insert(1, \"PosTime\"); currColumns.insert(1, \"FSeen\"); currColumns.insert(1, \"timeRange\")\n",
    "        aircraftDict[key] = aircraftDict[key].reindex(columns=currColumns)\n",
    "        aircraftDict[key].to_csv(\"{}//day{}//aircraft{}.csv\".format(des_root_dir,index, key), index=False)\n",
    "        del aircraftDict[key]\n",
    "    "
   ]
  },
  {
   "cell_type": "code",
   "execution_count": 27,
   "metadata": {},
   "outputs": [
    {
     "name": "stdout",
     "output_type": "stream",
     "text": [
      "All threads have finished processing.\n"
     ]
    }
   ],
   "source": [
    "threads = []\n",
    "\n",
    "for idx in range(0, 30, 7):\n",
    "    \n",
    "    end = idx + 7\n",
    "    if idx + 7 > 30:\n",
    "        end = 30\n",
    "    for directory in os.listdir(src_root_dir)[idx:idx+end]:\n",
    "        thread = threading.Thread(target=processSingleDir, args=(directory,))\n",
    "        thread.start()\n",
    "        threads.append(thread)\n",
    "        \n",
    "    for thread in threads:\n",
    "        thread.join()\n",
    "    threads.clear()\n",
    "print(\"结束\")\n"
   ]
  }
 ],
 "metadata": {
  "kernelspec": {
   "display_name": "ML_Tensorflow",
   "language": "python",
   "name": "python3"
  },
  "language_info": {
   "codemirror_mode": {
    "name": "ipython",
    "version": 3
   },
   "file_extension": ".py",
   "mimetype": "text/x-python",
   "name": "python",
   "nbconvert_exporter": "python",
   "pygments_lexer": "ipython3",
   "version": "3.10.13"
  },
  "orig_nbformat": 4
 },
 "nbformat": 4,
 "nbformat_minor": 2
}
