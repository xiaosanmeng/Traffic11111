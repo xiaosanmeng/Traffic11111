{
 "cells": [
  {
   "cell_type": "code",
   "execution_count": 3,
   "metadata": {},
   "outputs": [],
   "source": [
    "import tensorflow as tf\n",
    "import os\n",
    "import numpy as np\n",
    "import pandas as pd\n",
    "import matplotlib.pyplot as plt\n",
    "import json\n",
    "from collections import defaultdict\n",
    "import datetime\n"
   ]
  },
  {
   "cell_type": "code",
   "execution_count": 4,
   "metadata": {},
   "outputs": [],
   "source": [
    "showNum = defaultdict(int)\n",
    "\n",
    "keyword = \"newweek\"\n",
    "dirList = os.listdir(keyword)\n",
    "\n",
    "for singleDir in dirList:\n",
    "    currpath = os.path.join(keyword, singleDir)\n",
    "    for file in os.listdir(currpath):\n",
    "        currFile = os.path.join(currpath, file)\n",
    "        currData = pd.read_csv(currFile)\n",
    "        if currData[\"TT\"][0] != \"a\":\n",
    "            print(\"错了\")"
   ]
  }
 ],
 "metadata": {
  "kernelspec": {
   "display_name": "ML_Tensorflow",
   "language": "python",
   "name": "python3"
  },
  "language_info": {
   "codemirror_mode": {
    "name": "ipython",
    "version": 3
   },
   "file_extension": ".py",
   "mimetype": "text/x-python",
   "name": "python",
   "nbconvert_exporter": "python",
   "pygments_lexer": "ipython3",
   "version": "3.10.13"
  }
 },
 "nbformat": 4,
 "nbformat_minor": 2
}
